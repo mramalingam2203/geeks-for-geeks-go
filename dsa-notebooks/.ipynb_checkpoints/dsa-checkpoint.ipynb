{
 "cells": [
  {
   "cell_type": "code",
   "execution_count": 11,
   "id": "75e81809-b5ff-475c-b10d-4d14294c7e0a",
   "metadata": {},
   "outputs": [
    {
     "name": "stdout",
     "output_type": "stream",
     "text": [
      "\u001b[33m2\u001b[39m\n"
     ]
    }
   ],
   "source": [
    "// lienar search\n",
    "\n",
    "function linearSearch(arr, k){\n",
    "    for (let i = 0; i < arr.length; i++){\n",
    "\n",
    "        if (arr[i] == k){\n",
    "            return i }\n",
    "        else{\n",
    "            continue\n",
    "        }\n",
    "    }\n",
    "        return -1\n",
    "}\n",
    "\n",
    "let a = [1, 2, 3, 4, 5, 6]\n",
    "let num = 3\n",
    "console.log(linearSearch(a, num))"
   ]
  },
  {
   "cell_type": "code",
   "execution_count": 11,
   "id": "738c9597-64f1-40ea-9200-78d0c139cdda",
   "metadata": {},
   "outputs": [
    {
     "name": "stdout",
     "output_type": "stream",
     "text": [
      "[ \u001b[33m3\u001b[39m, \u001b[33m4\u001b[39m, \u001b[33m5\u001b[39m, \u001b[33m6\u001b[39m, \u001b[33m1\u001b[39m, \u001b[33m2\u001b[39m ]\n"
     ]
    }
   ],
   "source": [
    "// Rotate an Array by d – Counterclockwise or Left\n",
    "\n",
    "function rotateLeft(arr, d){\n",
    "    let n = arr.length\n",
    "    return arr.slice(n-d, n).concat(arr.slice(0, n-d))\n",
    "}\n",
    "\n",
    "let arr = [1, 2, 3, 4, 5, 6];\n",
    "console.log(rotateLeft(arr, 4))\n"
   ]
  },
  {
   "cell_type": "code",
   "execution_count": 1,
   "id": "02d531a8-6136-483b-be2f-c61a103c196f",
   "metadata": {},
   "outputs": [
    {
     "name": "stdout",
     "output_type": "stream",
     "text": [
      "12 10 9 45 2\n"
     ]
    }
   ],
   "source": [
    "// JavaScript program to print all distinct elements in an\n",
    "// array using nested loops\n",
    "\n",
    "function findDistinct(arr) {\n",
    "    let res = [];\n",
    "\n",
    "    for (let i = 0; i < arr.length; i++) {\n",
    "\n",
    "        // Check if this element is included in result\n",
    "        let j;\n",
    "        for (j = 0; j < i; j++)\n",
    "            if (arr[i] === arr[j])\n",
    "                break;\n",
    "\n",
    "        // Include this element if not included previously\n",
    "        if (i === j)\n",
    "            res.push(arr[i]);\n",
    "    }\n",
    "\n",
    "    return res;\n",
    "}\n",
    "\n",
    "\n",
    "let arr = [12, 10, 9, 45, 2, 10, 10, 45];\n",
    "let res = findDistinct(arr);\n",
    "console.log(res.join(\" \"));"
   ]
  },
  {
   "cell_type": "code",
   "execution_count": null,
   "id": "429a5fd4-374d-4b38-a7d2-865817e167d6",
   "metadata": {},
   "outputs": [],
   "source": [
    "// Move all zeros to end of array\n",
    "\n",
    "function moveAllZerosToEndOfArray(arr){\n",
    "    let result = []\n",
    "    let n = arr.length\n",
    "    for (let i = 0; i < n; i++){\n",
    "        if arr[i] != 0{\n",
    "            result.append(arr[i])\n",
    "        }\n",
    "    }\n",
    "    count =  0\n",
    "    let nr = result.length\n",
    "    for (let i = nr ; i < n-nr; i++){\n",
    "        result.append(0)\n",
    "    }\n",
    "        \n",
    "\n",
    "    \n",
    "}\n",
    "\n",
    "let arr = [1, 0, 0, -1, 0, 2 , 3, 4, 5]"
   ]
  }
 ],
 "metadata": {
  "kernelspec": {
   "display_name": "Deno",
   "language": "typescript",
   "name": "deno"
  },
  "language_info": {
   "codemirror_mode": "typescript",
   "file_extension": ".ts",
   "mimetype": "text/x.typescript",
   "name": "typescript",
   "nbconvert_exporter": "script",
   "pygments_lexer": "typescript",
   "version": "5.6.2"
  }
 },
 "nbformat": 4,
 "nbformat_minor": 5
}

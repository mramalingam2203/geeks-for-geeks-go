{
 "cells": [
  {
   "cell_type": "code",
   "execution_count": 19,
   "id": "5679816d-a0bc-4548-826d-45217269e4f8",
   "metadata": {},
   "outputs": [
    {
     "name": "stdout",
     "output_type": "stream",
     "text": [
      "KHOOR\n"
     ]
    }
   ],
   "source": [
    "\"\"\"\n",
    " Caesar Cipher Implementation\n",
    "\n",
    "Write a program to encrypt and decrypt a message using the Caesar Cipher.\n",
    "Example: \"HELLO\" with a shift of 3 → \"KHOOR\"\n",
    "\n",
    "\"\"\"\n",
    "string = \"HELLO\"\n",
    "def encrypt(string):\n",
    "    encrypted = \"\"\n",
    "    for char in string:\n",
    "        encrypted += chr(ord(char)+3)\n",
    "    return encrypted\n",
    "    \n",
    "print(encrypt(string))\n"
   ]
  },
  {
   "cell_type": "code",
   "execution_count": null,
   "id": "51b5db80-3850-410c-b304-0b0a210df7ad",
   "metadata": {},
   "outputs": [],
   "source": [
    "\"\"\"\n",
    "    Vigenère Cipher\n",
    "    Implement encryption and decryption using the Vigenère Cipher, where the key is a repeated string.\n",
    "\"\"\"\n",
    "\n"
   ]
  }
 ],
 "metadata": {
  "kernelspec": {
   "display_name": "Python 3 (ipykernel)",
   "language": "python",
   "name": "python3"
  },
  "language_info": {
   "codemirror_mode": {
    "name": "ipython",
    "version": 3
   },
   "file_extension": ".py",
   "mimetype": "text/x-python",
   "name": "python",
   "nbconvert_exporter": "python",
   "pygments_lexer": "ipython3",
   "version": "3.12.7"
  }
 },
 "nbformat": 4,
 "nbformat_minor": 5
}

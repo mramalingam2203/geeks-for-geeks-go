{
 "cells": [
  {
   "cell_type": "markdown",
   "id": "49098ea7-f7c8-44c9-a9a1-3cd368beb9a8",
   "metadata": {},
   "source": [
    "## ARRAYS"
   ]
  },
  {
   "cell_type": "code",
   "execution_count": 11,
   "id": "75e81809-b5ff-475c-b10d-4d14294c7e0a",
   "metadata": {},
   "outputs": [
    {
     "name": "stdout",
     "output_type": "stream",
     "text": [
      "\u001b[33m2\u001b[39m\n"
     ]
    }
   ],
   "source": [
    "// lienar search\n",
    "\n",
    "function linearSearch(arr, k){\n",
    "    for (let i = 0; i < arr.length; i++){\n",
    "\n",
    "        if (arr[i] == k){\n",
    "            return i }\n",
    "        else{\n",
    "            continue\n",
    "        }\n",
    "    }\n",
    "        return -1\n",
    "}\n",
    "\n",
    "let a = [1, 2, 3, 4, 5, 6]\n",
    "let num = 3\n",
    "console.log(linearSearch(a, num))"
   ]
  },
  {
   "cell_type": "code",
   "execution_count": 11,
   "id": "738c9597-64f1-40ea-9200-78d0c139cdda",
   "metadata": {},
   "outputs": [
    {
     "name": "stdout",
     "output_type": "stream",
     "text": [
      "[ \u001b[33m3\u001b[39m, \u001b[33m4\u001b[39m, \u001b[33m5\u001b[39m, \u001b[33m6\u001b[39m, \u001b[33m1\u001b[39m, \u001b[33m2\u001b[39m ]\n"
     ]
    }
   ],
   "source": [
    "// Rotate an Array by d – Counterclockwise or Left\n",
    "\n",
    "function rotateLeft(arr, d){\n",
    "    let n = arr.length\n",
    "    return arr.slice(n-d, n).concat(arr.slice(0, n-d))\n",
    "}\n",
    "\n",
    "let arr = [1, 2, 3, 4, 5, 6];\n",
    "console.log(rotateLeft(arr, 4))\n"
   ]
  },
  {
   "cell_type": "code",
   "execution_count": 1,
   "id": "02d531a8-6136-483b-be2f-c61a103c196f",
   "metadata": {},
   "outputs": [
    {
     "name": "stdout",
     "output_type": "stream",
     "text": [
      "12 10 9 45 2\n"
     ]
    }
   ],
   "source": [
    "// JavaScript program to print all distinct elements in an\n",
    "// array using nested loops\n",
    "\n",
    "function findDistinct(arr) {\n",
    "    let res = [];\n",
    "\n",
    "    for (let i = 0; i < arr.length; i++) {\n",
    "\n",
    "        // Check if this element is included in result\n",
    "        let j;\n",
    "        for (j = 0; j < i; j++)\n",
    "            if (arr[i] === arr[j])\n",
    "                break;\n",
    "\n",
    "        // Include this element if not included previously\n",
    "        if (i === j)\n",
    "            res.push(arr[i]);\n",
    "    }\n",
    "\n",
    "    return res;\n",
    "}\n",
    "\n",
    "\n",
    "let arr = [12, 10, 9, 45, 2, 10, 10, 45];\n",
    "let res = findDistinct(arr);\n",
    "console.log(res.join(\" \"));"
   ]
  },
  {
   "cell_type": "code",
   "execution_count": 23,
   "id": "429a5fd4-374d-4b38-a7d2-865817e167d6",
   "metadata": {},
   "outputs": [
    {
     "name": "stdout",
     "output_type": "stream",
     "text": [
      "[\n",
      "  \u001b[33m1\u001b[39m, \u001b[33m-1\u001b[39m, \u001b[33m2\u001b[39m, \u001b[33m3\u001b[39m, \u001b[33m4\u001b[39m,\n",
      "  \u001b[33m5\u001b[39m,  \u001b[33m0\u001b[39m, \u001b[33m0\u001b[39m, \u001b[33m0\u001b[39m\n",
      "]\n"
     ]
    }
   ],
   "source": [
    "// Move all zeros to end of array\n",
    "\n",
    "function moveAllZerosToEndOfArray(arr){\n",
    "    let result = []\n",
    "    let n = arr.length\n",
    "    for (let i = 0; i < n; i++){\n",
    "        if (arr[i] != 0){\n",
    "            result.push(arr[i])\n",
    "        }\n",
    "    }\n",
    "    let nr = result.length\n",
    "    for (let i = nr ; i < n; i++){\n",
    "        result.push(0)\n",
    "    }\n",
    "        \n",
    "    return result\n",
    "    \n",
    "}\n",
    "\n",
    "let arr = [1, 0, 0, -1, 0, 2 , 3, 4, 5]\n",
    "console.log(moveAllZerosToEndOfArray(arr))"
   ]
  },
  {
   "cell_type": "code",
   "execution_count": 37,
   "id": "82b661ea-c8b1-4efa-a1b1-410b8581be64",
   "metadata": {},
   "outputs": [
    {
     "name": "stdout",
     "output_type": "stream",
     "text": [
      "[ \u001b[33m1\u001b[39m, \u001b[33m2\u001b[39m, \u001b[33m1\u001b[39m, \u001b[33m2\u001b[39m ]\n"
     ]
    }
   ],
   "source": [
    "// Rearrange array such that even positioned are greater than odd\n",
    "\n",
    "function rearrangeArraEvenElementsGreaterThanOdd(arr){\n",
    "    let n = arr.length\n",
    "    var temp \n",
    "    for (let i = 0; i < n-1; i++){\n",
    "        if (arr[i+1] < arr[i]){\n",
    "            [arr[i], arr[i+1]] = [arr[i+1], arr[i]]/*\n",
    "            temp = arr[i+1]\n",
    "            arr[i+1] = arr[i]\n",
    "            arr[i] = temp */\n",
    "        }\n",
    "    }\n",
    "\n",
    "    return arr\n",
    "}\n",
    "        \n",
    "let array = [1, 2, 2, 1]\n",
    "console.log(rearrangeArraEvenElementsGreaterThanOdd(array))\n",
    "    "
   ]
  },
  {
   "cell_type": "code",
   "execution_count": null,
   "id": "7bb3a6fe-a2ba-4f4f-a378-aa2db0d871c0",
   "metadata": {},
   "outputs": [],
   "source": [
    "// Binary search\n",
    "func binarySearch(arr, "
   ]
  },
  {
   "cell_type": "code",
   "execution_count": null,
   "id": "9c173f27-f5e1-4f63-a847-80154d5987c0",
   "metadata": {},
   "outputs": [],
   "source": [
    "// Segregate even and odd numbers using Lomuto’s Partition Scheme\n",
    "function LomutoPartition(arr){\n",
    "}\n",
    "\n"
   ]
  },
  {
   "cell_type": "code",
   "execution_count": 15,
   "id": "8b010efe-6084-4f2b-9104-953e57c334dd",
   "metadata": {},
   "outputs": [
    {
     "name": "stdout",
     "output_type": "stream",
     "text": [
      "[]\n",
      "[]\n"
     ]
    }
   ],
   "source": [
    "// Find Duplicates in an Array\n",
    "function findDuplicates(arr){\n",
    "    let n = arr.length\n",
    "    var result = []\n",
    "    let freq = []\n",
    "    for (let i = 0; i < n; i++){\n",
    "        if (freq[arr[i]] == arr[i]){\n",
    "            freq[arr[i]]++\n",
    "        }\n",
    "    }\n",
    "    console.log(freq)\n",
    "    result = []\n",
    "    for (let i = 0; i < freq.length; i++) {\n",
    "        if (freq[i] == 2){\n",
    "            result.concat(i)\n",
    "        }\n",
    "    }\n",
    "    return result\n",
    "}\n",
    "\n",
    "let array = [0, 0, 1, 2, 3, 3, 4, 5, 6]\n",
    "console.log(findDuplicates(array))"
   ]
  },
  {
   "cell_type": "code",
   "execution_count": null,
   "id": "54f78c9d-6394-40fe-a935-59daf94232d1",
   "metadata": {},
   "outputs": [],
   "source": [
    "// Sort an array of 0s, 1s and 2s – Dutch National Flag Problem\n",
    "\n",
    "function sortZerosOnesTwos(arr){\n",
    "    let count_0, count_1, count_2 = 0, 0, 0\n",
    "\n",
    "    for (let i = 0; i < arr.length; i++){\n",
    "        if (arr[i] == 0){\n",
    "            count_0++}else if (arr[i] ==n){\n",
    "            count_1++} else{\n",
    "            count_2++}\n",
    "            }\n",
    "        }\n",
    "    \n",
    "\n",
    "\n",
    "}"
   ]
  },
  {
   "cell_type": "code",
   "execution_count": 55,
   "id": "eaec9ce2-f570-43cb-a52a-652a4a31aa6a",
   "metadata": {},
   "outputs": [
    {
     "name": "stdout",
     "output_type": "stream",
     "text": [
      "[ \u001b[33m1\u001b[39m, \u001b[33m3\u001b[39m, \u001b[33m6\u001b[39m, \u001b[33m10\u001b[39m, \u001b[33m15\u001b[39m, \u001b[33m20\u001b[39m ]\n",
      "\u001b[33m-1\u001b[39m\n"
     ]
    }
   ],
   "source": [
    "// Split an array into two equal Sum subarrays\n",
    "\n",
    "function splitArrayTo2EqualSumSubarrays(arr){\n",
    "    \n",
    "    let n = arr.length\n",
    "    let sumTotal = Array(n).fill(0)\n",
    "    var leftTotal\n",
    "    sumTotal[0] = arr[0]\n",
    "    for (let i = 1; i < n ; i++){\n",
    "        sumTotal[i] = sumTotal[i-1]  + arr[i]\n",
    "    }\n",
    "\n",
    "    console.log(sumTotal)\n",
    "    \n",
    "    for (let i = n-1; n >= 0; i--){\n",
    "         leftTotal = 0\n",
    "         leftTotal = sumTotal[i-1]-arr[i]   \n",
    "         if (leftTotal[i] == sumTotal[i]){\n",
    "            return i\n",
    "         }\n",
    "    }\n",
    "\n",
    "    return -1\n",
    "}\n",
    "\n",
    "array = [ 1 , 2 , 3 , 4 , 5 , 5]\n",
    "console.log(splitArrayTo2EqualSumSubarrays(array))"
   ]
  },
  {
   "cell_type": "code",
   "execution_count": 59,
   "id": "923c16f2-990d-4c46-8169-416da3651d69",
   "metadata": {},
   "outputs": [],
   "source": [
    "/* Find an element which divides the array in two subarrays with equal product\n",
    "Given, an array of size N. Find an element which divides the array into two sub-arrays with equal product. Print -1 if no such partition is not possible.*/\n",
    "\n",
    "function splitArrayTo2EqualProductSubarrays(arr){\n",
    "    let totalProduct = 1\n",
    "    n = arr.length\n",
    "    for (let i = 0; i < n; i++){\n",
    "        totalProduct *= arr[i]\n",
    "    }\n",
    "\n",
    "    \n",
    "\n",
    "}\n",
    "\n",
    "array = [1, 4, 2, 1, 4]\n",
    "splitArrayTo2EqualProductSubarrays(array)\n"
   ]
  },
  {
   "cell_type": "markdown",
   "id": "ec0e5cdc-238a-4f98-b7ab-94f89deb27f6",
   "metadata": {},
   "source": [
    "## MATRICES"
   ]
  },
  {
   "cell_type": "markdown",
   "id": "00bc9720-2182-4f82-ae45-4347369cb52f",
   "metadata": {},
   "source": [
    "### Basic Problems\n",
    "- Search in a Matrix\n",
    "- Addition of Matrices\n",
    "- Subtraction of Matrices\n",
    "- Multiplication of Matrices\n",
    "- Sort the given matrix\n",
    "- Search in a sorted matrix\n",
    "- Traverse Matrix using Recursion\n",
    "- Transpose of a matrix\n",
    "- Determinant of a Matrix\n",
    "- Adjoint and Inverse of a Matrix"
   ]
  },
  {
   "cell_type": "code",
   "execution_count": 80,
   "id": "ddfed2bd-66ce-4bb0-873c-8ad1641bf6cd",
   "metadata": {},
   "outputs": [
    {
     "name": "stdout",
     "output_type": "stream",
     "text": [
      "\u001b[33m3\u001b[39m \u001b[33m3\u001b[39m\n",
      "[ \u001b[33m1\u001b[39m, \u001b[33m0\u001b[39m ]\n"
     ]
    }
   ],
   "source": [
    "// - Search in a Matrix\n",
    "function searchMatrix(matrix){\n",
    "    let rows = matrix.length\n",
    "    let cols = matrix[0].length\n",
    "    console.log(rows, cols)\n",
    "    let i, j \n",
    "    for (i = 0; i < rows; i++){\n",
    "        for ( j = 0 ; j < cols; j++){\n",
    "            if (matrix[i][j] == num) {\n",
    "                return [i, j]\n",
    "            }\n",
    "        }\n",
    "    }\n",
    "\n",
    "    return -1, -1\n",
    "\n",
    "}\n",
    "\n",
    "let matrix = [[1, 2, 3], [4, 5, 6], [7, 8, 9]]\n",
    "let num = 4\n",
    "console.log(searchMatrix(matrix, num))"
   ]
  },
  {
   "cell_type": "code",
   "execution_count": 98,
   "id": "59975bf3-08fc-407e-b3e4-442cd3ad8d7d",
   "metadata": {},
   "outputs": [
    {
     "name": "stdout",
     "output_type": "stream",
     "text": [
      "[ [ \u001b[33m2\u001b[39m, \u001b[33m4\u001b[39m, \u001b[33m6\u001b[39m ], [ \u001b[33m8\u001b[39m, \u001b[33m10\u001b[39m, \u001b[33m12\u001b[39m ], [ \u001b[33m14\u001b[39m, \u001b[33m16\u001b[39m, \u001b[33m18\u001b[39m ] ]\n"
     ]
    }
   ],
   "source": [
    "// - Add two matrices\n",
    "function addMatrices(mat1, mat2){\n",
    "    let rows = mat1.length\n",
    "    let cols = mat2[0].length\n",
    "    //console.log(rows, cols)\n",
    "\n",
    "     \n",
    "    for (let i = 0; i < rows; i++){\n",
    "        for (let j = 0 ; j < cols; j++){\n",
    "                mat1[i][j] += mat2[i][j]\n",
    "            }\n",
    "        }\n",
    "    \n",
    "    return mat1\n",
    "}\n",
    "\n",
    "let matrix1 = [[1, 2, 3], [4, 5, 6], [7, 8, 9]]\n",
    "let matrix2 = [[1, 2, 3], [4, 5, 6], [7, 8, 9]]\n",
    "console.log(addMatrices(matrix1, matrix2))"
   ]
  },
  {
   "cell_type": "markdown",
   "id": "a8ae82c1-ba15-4a27-b8f5-a6f174283691",
   "metadata": {},
   "source": [
    "## STRINGS"
   ]
  },
  {
   "cell_type": "markdown",
   "id": "89e0d418-08af-47f2-85d4-27f8b390dac7",
   "metadata": {},
   "source": [
    "### Basic Operations of String:\n",
    "- Length of a String\n",
    "- Check if two strings are same\n",
    "- Search a Character\n",
    "- Insert a Character at a Position\n",
    "- Remove a Character at a Position\n",
    "- Insert a character at Multiple Positions\n",
    "- Remove all occurrences of a character\n",
    "- Concatenating Two Strings\n",
    "- Reverse a string\n",
    "- Generate all Substrings"
   ]
  },
  {
   "cell_type": "code",
   "execution_count": 127,
   "id": "966f5c98-2fb1-4938-a9be-8301a1fe3a85",
   "metadata": {
    "scrolled": true
   },
   "outputs": [
    {
     "name": "stdout",
     "output_type": "stream",
     "text": [
      "\u001b[33m12\u001b[39m \u001b[33mtrue\u001b[39m \u001b[33m10\u001b[39m Hee Lhee hee gee kee\n",
      "\n"
     ]
    }
   ],
   "source": [
    "function stringLength(str){\n",
    "    return str.length\n",
    "}\n",
    "\n",
    "function compareStrings(str1, str2){\n",
    "    if (str1.length != str2.length) return false;\n",
    "    for (let i = 0; i < str1.length; i++){\n",
    "        if (str1[i] == str2[i]) {continue}\n",
    "        else {return false}\n",
    "    }\n",
    "    return true\n",
    "}\n",
    "\n",
    "function searchChar(str, ch){\n",
    "    let count = 0\n",
    "    for (let i = 0; i < str.length; i++){\n",
    "        if (str[i] == ch){\n",
    "            count++\n",
    "        }\n",
    "    }\n",
    "    return count\n",
    "}\n",
    "\n",
    "function insertACharAtAPos(str, idx, ch){\n",
    "     return str.substring(0, idx) + ch + str.substring(idx)\n",
    "}\n",
    "\n",
    "\n",
    "function reverseAString(str){\n",
    "    let len = str.length\n",
    "    let result = \"\"\n",
    "    for (let i = len-1 ; i >= 0; i--){\n",
    "        result.concat(str[i])\n",
    "    }\n",
    "\n",
    "    return result\n",
    "}\n",
    "\n",
    "let string1 = \"Hello World!\"\n",
    "let string2 = \"Hello World!\"\n",
    "let string3 = \"Hee hee hee gee kee\"\n",
    "console.log(stringLength(string1), compareStrings(string1, string2), searchChar(string3, 'e'), insertACharAtAPos(string3, 4, 'L'))\n",
    "console.log(reverseAString(string3))\n"
   ]
  },
  {
   "cell_type": "markdown",
   "id": "535f90e9-b061-47a4-94c9-9b7518e78c55",
   "metadata": {},
   "source": [
    "### Easy Problems on String:\n",
    "- Check for Binary\n",
    "- Camel Case Conversion\n",
    "- Binary Substrings with Corners as 1s\n",
    "- Check for Panagram\n",
    "- Check for Palindrome\n",
    "- Check for Substring\n",
    "- Check for Subsequence\n",
    "- Check for Anagrams\n",
    "- Check for K-Anagrams\n",
    "- Duplicates in a String\n",
    "- Longest Substring Between Equals\n",
    "- Left Rotate\n",
    "- Check for Rotation\n",
    "- Validate an IP address\n",
    "- Count strings with consecutive 1’s\n",
    "- Generate all binary strings from given pattern\n",
    "- Smallest and Largest Word in a String\n",
    "- Count number of equal pairs in a string\n",
    "- Second most repeated word in a sequence\n",
    "- All strings by placing spaces\n",
    "- Sort string of characters\n",
    "- Char Frequencies in Order of Occurrence\n",
    "- Char Frequencies in Alphabetical order\n",
    "- URLify a String"
   ]
  },
  {
   "cell_type": "code",
   "execution_count": 36,
   "id": "d7ee6760-d172-42c0-aa58-66f15a527c8e",
   "metadata": {},
   "outputs": [
    {
     "name": "stdout",
     "output_type": "stream",
     "text": [
      "\u001b[33mfalse\u001b[39m\n"
     ]
    }
   ],
   "source": [
    "/* Check for Binary String\n",
    "Given a string s, the task is to check if it is a binary string or not. A binary string is a string which only contains the characters '0' and '1'. */\n",
    "\n",
    "function isBinaryString(str){\n",
    "    var ch\n",
    "    for (let i = 0 ; i < str.length; i++) {\n",
    "        if (str[i] != \"0\" && str[i] != '1'){\n",
    "            return false\n",
    "        }\n",
    "    }\n",
    "    return true\n",
    "}\n",
    "\n",
    "let string = \"010101012\"\n",
    "console.log(isBinaryString(string))"
   ]
  },
  {
   "cell_type": "code",
   "execution_count": 82,
   "id": "11670254-9e99-41ae-bd28-dcaaf997bae2",
   "metadata": {},
   "outputs": [
    {
     "name": "stdout",
     "output_type": "stream",
     "text": [
      "\n"
     ]
    }
   ],
   "source": [
    "/* Camel case of a given sentence\n",
    "Last Updated : 23 Nov, 2024\n",
    "Given a sentence having lowercase characters, the task is to convert it to Camel Case. In Camel Case, words are joined without spaces, the first word keeps its original case, and each subsequent word starts with an uppercase letter.\n",
    "*/\n",
    "\n",
    "function changeToCamelCase(sentence){\n",
    "    let words = sentence.split(\" \")\n",
    "    let result = \"\"\n",
    "      for (let i=0; i < words.length; i++){\n",
    "        result.concat(words[i][0].toUpperCase())\n",
    "       }\n",
    "    console.log(result)\n",
    "}\n",
    "\n",
    "string = \"Hello! How are you ?\"\n",
    "//console.log(\n",
    "changeToCamelCase(string)\n",
    "    "
   ]
  },
  {
   "cell_type": "code",
   "execution_count": 134,
   "id": "b1e0c440-466a-4a74-a10c-0c56da412468",
   "metadata": {
    "scrolled": true
   },
   "outputs": [
    {
     "name": "stdout",
     "output_type": "stream",
     "text": [
      "[\n",
      "  \u001b[32m\" \"\u001b[39m, \u001b[32m\" \"\u001b[39m, \u001b[32m\" \"\u001b[39m, \u001b[32m\" \"\u001b[39m, \u001b[32m\" \"\u001b[39m, \u001b[32m\" \"\u001b[39m, \u001b[32m\" \"\u001b[39m,\n",
      "  \u001b[32m\" \"\u001b[39m, \u001b[32m\"a\"\u001b[39m, \u001b[32m\"b\"\u001b[39m, \u001b[32m\"c\"\u001b[39m, \u001b[32m\"d\"\u001b[39m, \u001b[32m\"e\"\u001b[39m, \u001b[32m\"e\"\u001b[39m,\n",
      "  \u001b[32m\"e\"\u001b[39m, \u001b[32m\"f\"\u001b[39m, \u001b[32m\"g\"\u001b[39m, \u001b[32m\"h\"\u001b[39m, \u001b[32m\"h\"\u001b[39m, \u001b[32m\"i\"\u001b[39m, \u001b[32m\"j\"\u001b[39m,\n",
      "  \u001b[32m\"k\"\u001b[39m, \u001b[32m\"l\"\u001b[39m, \u001b[32m\"m\"\u001b[39m, \u001b[32m\"n\"\u001b[39m, \u001b[32m\"o\"\u001b[39m, \u001b[32m\"o\"\u001b[39m, \u001b[32m\"o\"\u001b[39m,\n",
      "  \u001b[32m\"o\"\u001b[39m, \u001b[32m\"p\"\u001b[39m, \u001b[32m\"q\"\u001b[39m, \u001b[32m\"r\"\u001b[39m, \u001b[32m\"r\"\u001b[39m, \u001b[32m\"s\"\u001b[39m, \u001b[32m\"t\"\u001b[39m,\n",
      "  \u001b[32m\"t\"\u001b[39m, \u001b[32m\"u\"\u001b[39m, \u001b[32m\"u\"\u001b[39m, \u001b[32m\"v\"\u001b[39m, \u001b[32m\"w\"\u001b[39m, \u001b[32m\"x\"\u001b[39m, \u001b[32m\"y\"\u001b[39m,\n",
      "  \u001b[32m\"z\"\u001b[39m\n",
      "]\n",
      "\u001b[33m26\u001b[39m\n"
     ]
    },
    {
     "data": {
      "text/plain": [
       "\u001b[33mtrue\u001b[39m"
      ]
     },
     "execution_count": 134,
     "metadata": {},
     "output_type": "execute_result"
    }
   ],
   "source": [
    "/* \n",
    "Given a string s, the task is to check if it is Pangram or not. A pangram is a sentence containing all letters of the English Alphabet.\n",
    "*/\n",
    "\n",
    "function isPanagram(string){\n",
    "    string = string.toLowerCase()\n",
    "    let letters = string.split(\"\")\n",
    "    console.log(letters.sort())\n",
    "    letters = letters.filter(item => item !== \" \")\n",
    "    let uniqueLetters = new Set(letters) \n",
    "    console.log(uniqueLetters.size)\n",
    "    if (uniqueLetters.size == 26)\n",
    "        { return true }\n",
    "    else { \n",
    "        return false}\n",
    "}\n",
    "\n",
    "string = \"The quick brown fox jumps over the lazy dog\"\n",
    "isPanagram(string)"
   ]
  },
  {
   "cell_type": "code",
   "execution_count": 140,
   "id": "18177800-63c6-4a30-9ffc-a98a3c0ada58",
   "metadata": {},
   "outputs": [
    {
     "name": "stdout",
     "output_type": "stream",
     "text": [
      "\u001b[33mtrue\u001b[39m\n"
     ]
    }
   ],
   "source": [
    "/* - Check for Palindrome */\n",
    "\n",
    "function isPalindrome(str){\n",
    "    let n = str.length\n",
    "\n",
    "    for (let i = 0; i < n ; i++){\n",
    "        if (str[i] != str[n-i-1]){\n",
    "            return false\n",
    "        }\n",
    "    }\n",
    "\n",
    "    return true\n",
    "}\n",
    "\n",
    "string = \"abba\"\n",
    "console.log(isPalindrome(string))"
   ]
  },
  {
   "cell_type": "markdown",
   "id": "474ca207-cec1-4a0c-917c-6591475f8318",
   "metadata": {},
   "source": [
    "## LINKED LISTS"
   ]
  },
  {
   "cell_type": "markdown",
   "id": "ac50f0ea-6fdc-47db-96f4-87ea7f361b59",
   "metadata": {},
   "source": [
    "## STACKS"
   ]
  },
  {
   "cell_type": "markdown",
   "id": "3a89f3fc-5bab-43c4-b7e0-e6cbd3923ac1",
   "metadata": {},
   "source": [
    "## QUEUES"
   ]
  },
  {
   "cell_type": "code",
   "execution_count": null,
   "id": "33c5acb2-379c-42d0-a7c7-d081b32a0616",
   "metadata": {},
   "outputs": [],
   "source": []
  },
  {
   "cell_type": "code",
   "execution_count": null,
   "id": "1288ed27-7eaa-4872-b59e-e3ef66fa0b4b",
   "metadata": {},
   "outputs": [],
   "source": []
  }
 ],
 "metadata": {
  "kernelspec": {
   "display_name": "Deno",
   "language": "typescript",
   "name": "deno"
  },
  "language_info": {
   "codemirror_mode": "typescript",
   "file_extension": ".ts",
   "mimetype": "text/x.typescript",
   "name": "typescript",
   "nbconvert_exporter": "script",
   "pygments_lexer": "typescript",
   "version": "5.6.2"
  }
 },
 "nbformat": 4,
 "nbformat_minor": 5
}

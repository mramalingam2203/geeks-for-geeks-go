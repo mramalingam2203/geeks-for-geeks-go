{
 "cells": [
  {
   "cell_type": "markdown",
   "id": "49098ea7-f7c8-44c9-a9a1-3cd368beb9a8",
   "metadata": {},
   "source": [
    "## ARRAYS"
   ]
  },
  {
   "cell_type": "code",
   "execution_count": 4,
   "id": "75e81809-b5ff-475c-b10d-4d14294c7e0a",
   "metadata": {},
   "outputs": [
    {
     "name": "stdout",
     "output_type": "stream",
     "text": [
      "\u001b[33m2\u001b[39m\n"
     ]
    }
   ],
   "source": [
    "// lienar search\n",
    "function linearSearch(arr, k){\n",
    "    for (let i = 0; i < arr.length; i++){\n",
    "\n",
    "        if (arr[i] == k){\n",
    "            return i }\n",
    "        else{\n",
    "            continue\n",
    "        }\n",
    "    }\n",
    "        return -1\n",
    "}\n",
    "\n",
    "let a = [1, 2, 3, 4, 5, 6]\n",
    "let num = 3\n",
    "console.log(linearSearch(a, num))"
   ]
  },
  {
   "cell_type": "code",
   "execution_count": 5,
   "id": "738c9597-64f1-40ea-9200-78d0c139cdda",
   "metadata": {},
   "outputs": [
    {
     "name": "stdout",
     "output_type": "stream",
     "text": [
      "[ \u001b[33m3\u001b[39m, \u001b[33m4\u001b[39m, \u001b[33m5\u001b[39m, \u001b[33m6\u001b[39m, \u001b[33m1\u001b[39m, \u001b[33m2\u001b[39m ]\n"
     ]
    }
   ],
   "source": [
    "// Rotate an Array by d – Counterclockwise or Left\n",
    "\n",
    "function rotateLeft(arr, d){\n",
    "    let n = arr.length\n",
    "    return arr.slice(n-d, n).concat(arr.slice(0, n-d))\n",
    "}\n",
    "\n",
    "let arr = [1, 2, 3, 4, 5, 6];\n",
    "console.log(rotateLeft(arr, 4))\n"
   ]
  },
  {
   "cell_type": "code",
   "execution_count": 6,
   "id": "02d531a8-6136-483b-be2f-c61a103c196f",
   "metadata": {},
   "outputs": [
    {
     "name": "stdout",
     "output_type": "stream",
     "text": [
      "12 10 9 45 2\n"
     ]
    }
   ],
   "source": [
    "// JavaScript program to print all distinct elements in an\n",
    "// array using nested loops\n",
    "\n",
    "function findDistinct(arr) {\n",
    "    let res = [];\n",
    "\n",
    "    for (let i = 0; i < arr.length; i++) {\n",
    "\n",
    "        // Check if this element is included in result\n",
    "        let j;\n",
    "        for (j = 0; j < i; j++)\n",
    "            if (arr[i] === arr[j])\n",
    "                break;\n",
    "\n",
    "        // Include this element if not included previously\n",
    "        if (i === j)\n",
    "            res.push(arr[i]);\n",
    "    }\n",
    "\n",
    "    return res;\n",
    "}\n",
    "\n",
    "\n",
    "let arr = [12, 10, 9, 45, 2, 10, 10, 45];\n",
    "let res = findDistinct(arr);\n",
    "console.log(res.join(\" \"));"
   ]
  },
  {
   "cell_type": "code",
   "execution_count": 7,
   "id": "429a5fd4-374d-4b38-a7d2-865817e167d6",
   "metadata": {},
   "outputs": [
    {
     "name": "stdout",
     "output_type": "stream",
     "text": [
      "[\n",
      "  \u001b[33m1\u001b[39m, \u001b[33m-1\u001b[39m, \u001b[33m2\u001b[39m, \u001b[33m3\u001b[39m, \u001b[33m4\u001b[39m,\n",
      "  \u001b[33m5\u001b[39m,  \u001b[33m0\u001b[39m, \u001b[33m0\u001b[39m, \u001b[33m0\u001b[39m\n",
      "]\n"
     ]
    }
   ],
   "source": [
    "// Move all zeros to end of array\n",
    "\n",
    "function moveAllZerosToEndOfArray(arr){\n",
    "    let result = []\n",
    "    let n = arr.length\n",
    "    for (let i = 0; i < n; i++){\n",
    "        if (arr[i] != 0){\n",
    "            result.push(arr[i])\n",
    "        }\n",
    "    }\n",
    "    let nr = result.length\n",
    "    for (let i = nr ; i < n; i++){\n",
    "        result.push(0)\n",
    "    }\n",
    "        \n",
    "    return result\n",
    "    \n",
    "}\n",
    "\n",
    "let arr = [1, 0, 0, -1, 0, 2 , 3, 4, 5]\n",
    "console.log(moveAllZerosToEndOfArray(arr))"
   ]
  },
  {
   "cell_type": "code",
   "execution_count": 8,
   "id": "82b661ea-c8b1-4efa-a1b1-410b8581be64",
   "metadata": {},
   "outputs": [
    {
     "name": "stdout",
     "output_type": "stream",
     "text": [
      "[ \u001b[33m1\u001b[39m, \u001b[33m2\u001b[39m, \u001b[33m1\u001b[39m, \u001b[33m2\u001b[39m ]\n"
     ]
    }
   ],
   "source": [
    "// Rearrange array such that even positioned are greater than odd\n",
    "\n",
    "function rearrangeArraEvenElementsGreaterThanOdd(arr){\n",
    "    let n = arr.length\n",
    "    var temp \n",
    "    for (let i = 0; i < n-1; i++){\n",
    "        if (arr[i+1] < arr[i]){\n",
    "            [arr[i], arr[i+1]] = [arr[i+1], arr[i]]/*\n",
    "            temp = arr[i+1]\n",
    "            arr[i+1] = arr[i]\n",
    "            arr[i] = temp */\n",
    "        }\n",
    "    }\n",
    "\n",
    "    return arr\n",
    "}\n",
    "        \n",
    "let array = [1, 2, 2, 1]\n",
    "console.log(rearrangeArraEvenElementsGreaterThanOdd(array))\n",
    "    "
   ]
  },
  {
   "cell_type": "code",
   "execution_count": 9,
   "id": "7bb3a6fe-a2ba-4f4f-a378-aa2db0d871c0",
   "metadata": {},
   "outputs": [
    {
     "ename": "Expected ';', '}' or <eof> at file:///repl.tsx:2:6\n\n  func binarySearch(arr, \n       ~~~~~~~~~~~~",
     "evalue": "Expected ';', '}' or <eof> at file:///repl.tsx:2:6\n\n  func binarySearch(arr, \n       ~~~~~~~~~~~~",
     "output_type": "error",
     "traceback": []
    }
   ],
   "source": [
    "// Binary search\n",
    "func binarySearch(arr, "
   ]
  },
  {
   "cell_type": "code",
   "execution_count": 10,
   "id": "9c173f27-f5e1-4f63-a847-80154d5987c0",
   "metadata": {},
   "outputs": [],
   "source": [
    "// Segregate even and odd numbers using Lomuto’s Partition Scheme\n",
    "function LomutoPartition(arr){\n",
    "}\n",
    "\n"
   ]
  },
  {
   "cell_type": "code",
   "execution_count": 11,
   "id": "8b010efe-6084-4f2b-9104-953e57c334dd",
   "metadata": {},
   "outputs": [
    {
     "name": "stdout",
     "output_type": "stream",
     "text": [
      "[]\n",
      "[]\n"
     ]
    }
   ],
   "source": [
    "// Find Duplicates in an Array\n",
    "function findDuplicates(arr){\n",
    "    let n = arr.length\n",
    "    var result = []\n",
    "    let freq = []\n",
    "    for (let i = 0; i < n; i++){\n",
    "        if (freq[arr[i]] == arr[i]){\n",
    "            freq[arr[i]]++\n",
    "        }\n",
    "    }\n",
    "    console.log(freq)\n",
    "    result = []\n",
    "    for (let i = 0; i < freq.length; i++) {\n",
    "        if (freq[i] == 2){\n",
    "            result.concat(i)\n",
    "        }\n",
    "    }\n",
    "    return result\n",
    "}\n",
    "\n",
    "let array = [0, 0, 1, 2, 3, 3, 4, 5, 6]\n",
    "console.log(findDuplicates(array))"
   ]
  },
  {
   "cell_type": "code",
   "execution_count": 12,
   "id": "54f78c9d-6394-40fe-a935-59daf94232d1",
   "metadata": {},
   "outputs": [
    {
     "ename": "Unexpected token `numeric literal (0, 0)`. Expected yield, an identifier, [ or { at file:///repl.tsx:4:40\n\n      let count_0, count_1, count_2 = 0, 0, 0\n                                         ~",
     "evalue": "Unexpected token `numeric literal (0, 0)`. Expected yield, an identifier, [ or { at file:///repl.tsx:4:40\n\n      let count_0, count_1, count_2 = 0, 0, 0\n                                         ~",
     "output_type": "error",
     "traceback": []
    }
   ],
   "source": [
    "// Sort an array of 0s, 1s and 2s – Dutch National Flag Problem\n",
    "\n",
    "function sortZerosOnesTwos(arr){\n",
    "    let count_0, count_1, count_2 = 0, 0, 0\n",
    "\n",
    "    for (let i = 0; i < arr.length; i++){\n",
    "        if (arr[i] == 0){\n",
    "            count_0++}else if (arr[i] ==n){\n",
    "            count_1++} else{\n",
    "            count_2++}\n",
    "            }\n",
    "        }\n",
    "    \n",
    "\n",
    "\n",
    "}"
   ]
  },
  {
   "cell_type": "code",
   "execution_count": 13,
   "id": "eaec9ce2-f570-43cb-a52a-652a4a31aa6a",
   "metadata": {},
   "outputs": [
    {
     "name": "stdout",
     "output_type": "stream",
     "text": [
      "[ \u001b[33m1\u001b[39m, \u001b[33m3\u001b[39m, \u001b[33m6\u001b[39m, \u001b[33m10\u001b[39m, \u001b[33m15\u001b[39m, \u001b[33m20\u001b[39m ]\n",
      "\u001b[33m-1\u001b[39m\n"
     ]
    }
   ],
   "source": [
    "// Split an array into two equal Sum subarrays\n",
    "\n",
    "function splitArrayTo2EqualSumSubarrays(arr){\n",
    "    \n",
    "    let n = arr.length\n",
    "    let sumTotal = Array(n).fill(0)\n",
    "    var leftTotal\n",
    "    sumTotal[0] = arr[0]\n",
    "    for (let i = 1; i < n ; i++){\n",
    "        sumTotal[i] = sumTotal[i-1]  + arr[i]\n",
    "    }\n",
    "\n",
    "    console.log(sumTotal)\n",
    "    \n",
    "    for (let i = n-1; n >= 0; i--){\n",
    "         leftTotal = 0\n",
    "         leftTotal = sumTotal[i-1]-arr[i]   \n",
    "         if (leftTotal[i] == sumTotal[i]){\n",
    "            return i\n",
    "         }\n",
    "    }\n",
    "\n",
    "    return -1\n",
    "}\n",
    "\n",
    "array = [ 1 , 2 , 3 , 4 , 5 , 5]\n",
    "console.log(splitArrayTo2EqualSumSubarrays(array))"
   ]
  },
  {
   "cell_type": "code",
   "execution_count": 14,
   "id": "923c16f2-990d-4c46-8169-416da3651d69",
   "metadata": {},
   "outputs": [
    {
     "ename": "ReferenceError",
     "evalue": "n is not defined",
     "output_type": "error",
     "traceback": [
      "Stack trace:",
      "ReferenceError: n is not defined",
      "    at splitArrayTo2EqualProductSubarrays (<anonymous>:4:5)",
      "    at <anonymous>:16:1"
     ]
    }
   ],
   "source": [
    "/* Find an element which divides the array in two subarrays with equal product\n",
    "Given, an array of size N. Find an element which divides the array into two sub-arrays with equal product. Print -1 if no such partition is not possible.*/\n",
    "\n",
    "function splitArrayTo2EqualProductSubarrays(arr){\n",
    "    let totalProduct = 1\n",
    "    n = arr.length\n",
    "    for (let i = 0; i < n; i++){\n",
    "        totalProduct *= arr[i]\n",
    "    }\n",
    "\n",
    "    \n",
    "\n",
    "}\n",
    "\n",
    "array = [1, 4, 2, 1, 4]\n",
    "splitArrayTo2EqualProductSubarrays(array)\n"
   ]
  },
  {
   "cell_type": "markdown",
   "id": "c634ae2e-8bc9-445a-a691-82a639144a3e",
   "metadata": {},
   "source": [
    "## SUBARRAYS"
   ]
  },
  {
   "cell_type": "code",
   "execution_count": 5,
   "id": "218ca6b2-33fc-466d-a11c-f94ee9f95873",
   "metadata": {},
   "outputs": [
    {
     "name": "stdout",
     "output_type": "stream",
     "text": [
      "[\n",
      "  [ \u001b[33m1\u001b[39m, \u001b[33m2\u001b[39m ],\n",
      "  [ \u001b[33m1\u001b[39m, \u001b[33m2\u001b[39m, \u001b[33m3\u001b[39m ],\n",
      "  [ \u001b[33m1\u001b[39m, \u001b[33m2\u001b[39m, \u001b[33m3\u001b[39m, \u001b[33m4\u001b[39m ],\n",
      "  [ \u001b[33m1\u001b[39m, \u001b[33m2\u001b[39m, \u001b[33m3\u001b[39m, \u001b[33m4\u001b[39m, \u001b[33m5\u001b[39m ],\n",
      "  [ \u001b[33m2\u001b[39m, \u001b[33m3\u001b[39m ],\n",
      "  [ \u001b[33m2\u001b[39m, \u001b[33m3\u001b[39m, \u001b[33m4\u001b[39m ],\n",
      "  [ \u001b[33m2\u001b[39m, \u001b[33m3\u001b[39m, \u001b[33m4\u001b[39m, \u001b[33m5\u001b[39m ],\n",
      "  [ \u001b[33m3\u001b[39m, \u001b[33m4\u001b[39m ],\n",
      "  [ \u001b[33m3\u001b[39m, \u001b[33m4\u001b[39m, \u001b[33m5\u001b[39m ],\n",
      "  [ \u001b[33m4\u001b[39m, \u001b[33m5\u001b[39m ]\n",
      "]\n"
     ]
    }
   ],
   "source": [
    "function allSubarrays(arr){\n",
    "    let length = arr.length\n",
    "    var subarrays = [];\n",
    "    for (let i = 0 ; i <length; i++){\n",
    "        for (let j = i+1; j < length ; j++){\n",
    "            var subarraylet = [];\n",
    "            for (let k = i ; k <= j ; k++){\n",
    "                subarraylet.push(arr[k])\n",
    "            }\n",
    "            subarrays.push(subarraylet)\n",
    "        }\n",
    "\n",
    "    }\n",
    "    console.log(subarrays) \n",
    "}\n",
    "\n",
    "let a = [1, 2, 3, 4, 5]\n",
    "allSubarrays(a)"
   ]
  },
  {
   "cell_type": "code",
   "execution_count": 45,
   "id": "62c5213d-74a7-4f1b-9085-1dd19e7e364e",
   "metadata": {},
   "outputs": [
    {
     "name": "stdout",
     "output_type": "stream",
     "text": [
      "\u001b[33m3\u001b[39m\n"
     ]
    },
    {
     "data": {
      "text/plain": [
       "[ [ \u001b[33m1\u001b[39m, \u001b[33m2\u001b[39m, \u001b[33m3\u001b[39m, \u001b[33m4\u001b[39m ], [ \u001b[33m5\u001b[39m, \u001b[33m5\u001b[39m ] ]"
      ]
     },
     "execution_count": 45,
     "metadata": {},
     "output_type": "execute_result"
    }
   ],
   "source": [
    "//  Split an array into two equal Sum subarrays\n",
    "function splitArrayIntoEqualSumSubarrays(arr){\n",
    "    let Sum = 0;\n",
    "    for (let i = 0; i < arr.length; i++){\n",
    "         Sum += arr[i]\n",
    "    }\n",
    "    for (let i= 0; i < arr.length; i++){\n",
    "        let leftSum = 0;\n",
    "        for (let j = 0 ; j <= i; j++){\n",
    "            leftSum += arr[j]\n",
    "            if (leftSum == Sum - leftSum){\n",
    "                console.log(j)\n",
    "                let a1 = arr.slice(0, j+1);\n",
    "                let a2 = arr.slice(j+1, j + 1+ arr.length);\n",
    "                return [a1, a2]\n",
    "            }\n",
    "        }\n",
    "    \n",
    "    }\n",
    "    return 0\n",
    "}\n",
    "\n",
    "let array = [1 , 2 , 3 , 4 , 5 , 5]\n",
    "splitArrayIntoEqualSumSubarrays(array)"
   ]
  },
  {
   "cell_type": "code",
   "execution_count": 62,
   "id": "87c1ec73-f632-43d1-aa20-393c6221222f",
   "metadata": {},
   "outputs": [
    {
     "data": {
      "text/plain": [
       "\u001b[32m\"YES\"\u001b[39m"
      ]
     },
     "execution_count": 62,
     "metadata": {},
     "output_type": "execute_result"
    }
   ],
   "source": [
    "/* Check if subarray with given product exists in an array\n",
    "Given an array of both positive and negative integers and a number K., The task is to check if any subarray with product K is present in the array or not.\n",
    "*/\n",
    "function findSubArrayOfGivenProduct(arr, K){\n",
    "    let length = arr.length\n",
    "    var subarrays = [];\n",
    "    for (let i = 0 ; i <length; i++){\n",
    "        for (let j = i+1; j < length ; j++){\n",
    "            let subarrayProduct = 1\n",
    "            for (let k = i ; k <= j ; k++){\n",
    "                subarrayProduct *= arr[k]\n",
    "            }\n",
    "            if (subarrayProduct == K){\n",
    "                return \"YES\"\n",
    "            }            \n",
    "        }\n",
    "    }\n",
    "    return \"NO\"\n",
    "}\n",
    "\n",
    "let a = [-2, -1, 3, -4, 5]\n",
    "let k = -12\n",
    "findSubArrayOfGivenProduct(a, k)\n"
   ]
  },
  {
   "cell_type": "code",
   "execution_count": 65,
   "id": "5049f7d0-7378-4175-93a0-a1546d7f2454",
   "metadata": {},
   "outputs": [
    {
     "name": "stdout",
     "output_type": "stream",
     "text": [
      "[ \u001b[33m2\u001b[39m, \u001b[33m3\u001b[39m, \u001b[33m1\u001b[39m ]\n",
      "condition not met\n"
     ]
    }
   ],
   "source": [
    "/* Subarray of size k with given sum\n",
    "Given an array arr[], an integer K and a Sum. The task is to check if there exists any subarray with K elements whose sum is equal to the given sum. If any of the subarray with size K has the sum equal to the given sum then print YES otherwise print NO.\n",
    "*/\n",
    "function findSubArrayOfGivenSumAndSize(arr, Sum, K){\n",
    "    let length = arr.length\n",
    "    var subarrays = [];\n",
    "    for (let i = 0 ; i <length; i++){\n",
    "        for (let j = i+1; j < length ; j++){\n",
    "            let subarraySum = 0\n",
    "            let subarray = [];\n",
    "            for (let k = i ; k <= j ; k++){\n",
    "                subarraySum += arr[k]\n",
    "                subarray.push(arr[k])\n",
    "            }\n",
    "            if (subarraySum == Sum && subarray.length == K  ){\n",
    "                console.log(subarray)\n",
    "            }            \n",
    "        }\n",
    "    }\n",
    "    console.log(\"condition not met\")\n",
    "}\n",
    "\n",
    "let arr = [1, 4, 2, 10, 2, 3, 1, 0, 20]\n",
    "let k = 3\n",
    "let sum = 6\n",
    "findSubArrayOfGivenSumAndSize(arr, sum, k)"
   ]
  },
  {
   "cell_type": "code",
   "execution_count": 73,
   "id": "0e357567-62c9-4d39-8ffd-a7cdaab8d8fc",
   "metadata": {},
   "outputs": [
    {
     "name": "stdout",
     "output_type": "stream",
     "text": [
      "[ \u001b[33m2\u001b[39m, \u001b[33m5\u001b[39m ]\n",
      "[ \u001b[33m2\u001b[39m, \u001b[33m5\u001b[39m, \u001b[33m65\u001b[39m ]\n",
      "[ \u001b[33m2\u001b[39m, \u001b[33m5\u001b[39m, \u001b[33m65\u001b[39m, \u001b[33m55\u001b[39m ]\n",
      "[ \u001b[33m2\u001b[39m, \u001b[33m5\u001b[39m, \u001b[33m65\u001b[39m, \u001b[33m55\u001b[39m, \u001b[33m50\u001b[39m ]\n",
      "[ \u001b[33m2\u001b[39m, \u001b[33m5\u001b[39m, \u001b[33m65\u001b[39m, \u001b[33m55\u001b[39m, \u001b[33m50\u001b[39m, \u001b[33m70\u001b[39m ]\n",
      "[\n",
      "   \u001b[33m2\u001b[39m,  \u001b[33m5\u001b[39m, \u001b[33m65\u001b[39m, \u001b[33m55\u001b[39m,\n",
      "  \u001b[33m50\u001b[39m, \u001b[33m70\u001b[39m, \u001b[33m90\u001b[39m\n",
      "]\n",
      "[ \u001b[33m5\u001b[39m, \u001b[33m65\u001b[39m ]\n",
      "[ \u001b[33m5\u001b[39m, \u001b[33m65\u001b[39m, \u001b[33m55\u001b[39m ]\n",
      "[ \u001b[33m5\u001b[39m, \u001b[33m65\u001b[39m, \u001b[33m55\u001b[39m, \u001b[33m50\u001b[39m ]\n",
      "[ \u001b[33m5\u001b[39m, \u001b[33m65\u001b[39m, \u001b[33m55\u001b[39m, \u001b[33m50\u001b[39m, \u001b[33m70\u001b[39m ]\n",
      "[ \u001b[33m5\u001b[39m, \u001b[33m65\u001b[39m, \u001b[33m55\u001b[39m, \u001b[33m50\u001b[39m, \u001b[33m70\u001b[39m, \u001b[33m90\u001b[39m ]\n",
      "[ \u001b[33m65\u001b[39m, \u001b[33m55\u001b[39m ]\n",
      "[ \u001b[33m65\u001b[39m, \u001b[33m55\u001b[39m, \u001b[33m50\u001b[39m ]\n",
      "[ \u001b[33m65\u001b[39m, \u001b[33m55\u001b[39m, \u001b[33m50\u001b[39m, \u001b[33m70\u001b[39m ]\n",
      "[ \u001b[33m65\u001b[39m, \u001b[33m55\u001b[39m, \u001b[33m50\u001b[39m, \u001b[33m70\u001b[39m, \u001b[33m90\u001b[39m ]\n",
      "[ \u001b[33m55\u001b[39m, \u001b[33m50\u001b[39m ]\n",
      "[ \u001b[33m55\u001b[39m, \u001b[33m50\u001b[39m, \u001b[33m70\u001b[39m ]\n",
      "[ \u001b[33m55\u001b[39m, \u001b[33m50\u001b[39m, \u001b[33m70\u001b[39m, \u001b[33m90\u001b[39m ]\n",
      "[ \u001b[33m50\u001b[39m, \u001b[33m70\u001b[39m ]\n",
      "[ \u001b[33m50\u001b[39m, \u001b[33m70\u001b[39m, \u001b[33m90\u001b[39m ]\n",
      "[ \u001b[33m70\u001b[39m, \u001b[33m90\u001b[39m ]\n"
     ]
    }
   ],
   "source": [
    "/*\n",
    "Sort an array where a subarray of a sorted array is in reverse order\n",
    "Given an array of N numbers where a subarray is sorted in descending order and rest of the numbers in the array are in ascending order. The task is to sort an array where a subarray of a sorted array is in reversed order. \n",
    "*/\n",
    "\n",
    "function allSubarrays(arr){\n",
    "    let length = arr.length\n",
    "    for (let i = 0 ; i <length; i++){\n",
    "        for (let j = i+1; j < length ; j++){\n",
    "            var subarray = [];\n",
    "            for (let k = i ; k <= j ; k++){\n",
    "                subarray.push(arr[k])\n",
    "            }\n",
    "         //   if (subarray[0] > subarray[subarray.length]){\n",
    "                console.log(subarray)\n",
    "         //   }\n",
    "        }\n",
    "\n",
    "    }\n",
    "}\n",
    "\n",
    "let a = [ 2, 5, 65, 55, 50, 70, 90  ]\n",
    "allSubarrays(a)"
   ]
  },
  {
   "cell_type": "code",
   "execution_count": 78,
   "id": "b6844b05-5af0-4abd-9764-86ef316b1116",
   "metadata": {},
   "outputs": [
    {
     "name": "stdout",
     "output_type": "stream",
     "text": [
      "\u001b[33m0\u001b[39m\n"
     ]
    }
   ],
   "source": [
    "/*\n",
    "    Count subarrays with all elements greater than K\n",
    "    Given an array of N integers and a number K, the task is to find the number of subarrays such that all elements are greater than K in it. \n",
    "*/\n",
    "\n",
    "\n",
    "function countSubarraysWithAllElementsGreaterThanK(arr,K){\n",
    "    let length = arr.length\n",
    "    let count = 0\n",
    "    for (let i = 0 ; i <length; i++){\n",
    "        for (let j = i+1; j < length ; j++){\n",
    "            var subarray = [];\n",
    "            for (let k = i ; k <= j ; k++){\n",
    "                subarray.push(arr[k])\n",
    "            }\n",
    "            for (let l=0;  l < arr.length; l++){\n",
    "                if (subarray[l] > K){\n",
    "                    continue; }\n",
    "                else break;\n",
    "                count += 1 \n",
    "            }\n",
    "            \n",
    "        }\n",
    "    }\n",
    "    console.log(count)\n",
    "}\n",
    "let a = [3, 4, 5, 6, 7, 2, 10, 11]\n",
    "let K = 5 \n",
    "\n",
    "countSubarraysWithAllElementsGreaterThanK(a, K)"
   ]
  },
  {
   "cell_type": "code",
   "execution_count": 99,
   "id": "4ded7b92-8c19-4c5c-8d84-5f4bc4bd954d",
   "metadata": {},
   "outputs": [
    {
     "name": "stdout",
     "output_type": "stream",
     "text": [
      "\u001b[33m5\u001b[39m\n"
     ]
    }
   ],
   "source": [
    "/*\n",
    "    Maximum length of the sub-array whose first and last elements are same\n",
    "    Given a character array arr[] containing only lowercase English alphabets, the task is to print the maximum length of the subarray such that the first and the last element of the sub-array are same.\n",
    "*/\n",
    "\n",
    "function maxLengthOfSubarrayFirstLastElementsEqual(arr){\n",
    "    let length = arr.length\n",
    "    let maxLength = 0\n",
    "    for (let i = 0 ; i <length; i++){\n",
    "        for (let j = i+1; j < length ; j++){\n",
    "            var subarray = [];\n",
    "            for (let k = i ; k <= j ; k++){\n",
    "                subarray.push(arr[k])\n",
    "            }\n",
    "         //   console.log(subarray)\n",
    "            if (subarray[0] == subarray[subarray.length-1]  &&  subarray.length > maxLength){\n",
    "                maxLength = subarray.length\n",
    "            }\n",
    "        }\n",
    "    }\n",
    "    console.log(maxLength)\n",
    "}\n",
    "\n",
    "let a = ['a', 'b', 'c', 'd', 'a']\n",
    "maxLengthOfSubarrayFirstLastElementsEqual(a)\n"
   ]
  },
  {
   "cell_type": "code",
   "execution_count": 105,
   "id": "1715e2cd-d025-400f-ac74-415503bbc9ca",
   "metadata": {
    "scrolled": true
   },
   "outputs": [
    {
     "name": "stdout",
     "output_type": "stream",
     "text": [
      "\u001b[33mNaN\u001b[39m\n",
      "\u001b[33mNaN\u001b[39m\n",
      "\u001b[33mNaN\u001b[39m\n",
      "\u001b[33mNaN\u001b[39m\n",
      "\u001b[33mNaN\u001b[39m\n",
      "\u001b[33mNaN\u001b[39m\n",
      "condition not met\n"
     ]
    }
   ],
   "source": [
    "/* \n",
    "Count of subarrays with sum at least K\n",
    "\n",
    "Given an array arr[] of size N and an integer K > 0. The task is to find the number of subarrays with sum at least K.\n",
    "*/\n",
    "\n",
    "\n",
    "function findSubArrayOfSumAtLeastK(arr, Sum){\n",
    "    let length = arr.length\n",
    "    var subarrays = [];\n",
    "    for (let i = 0 ; i <length; i++){\n",
    "        for (let j = i+1; j < length ; j++){\n",
    "            let subarray = [];\n",
    "            let subarraySum = 0\n",
    "            for (let k = i ; k <= j ; k++){\n",
    "                subarray.push(arr[k])\n",
    "            }\n",
    "            for (let l = 0; l <= subarray.length; l++){\n",
    "                subarraySum += subarray[l]\n",
    "            }\n",
    "            console.log(subarraySum)\n",
    "\n",
    "            if (subarraySum <= Sum){\n",
    "                console.log(subarray)\n",
    "            }            \n",
    "        }\n",
    "    }\n",
    "    console.log(\"condition not met\")\n",
    "}\n",
    "\n",
    "let arr = [6, 1, 2, 7]\n",
    "let k = 10\n",
    "findSubArrayOfSumAtLeastK(arr, k)\n"
   ]
  },
  {
   "cell_type": "code",
   "execution_count": 109,
   "id": "f463ff98-5793-4e73-a36d-64294d481d75",
   "metadata": {},
   "outputs": [
    {
     "name": "stdout",
     "output_type": "stream",
     "text": [
      "\u001b[33m42\u001b[39m\n"
     ]
    }
   ],
   "source": [
    "/*\n",
    "Sum of all subarrays of size K\n",
    "\n",
    "Given an array arr[] and an integer K, the task is to calculate the sum of all subarrays of size K. */\n",
    "\n",
    "\n",
    "function SumOfAllSubarraysOfSizeK(arr,L){\n",
    "    let length = arr.length\n",
    "    for (let i = 0 ; i <length; i++){\n",
    "        for (let j = i+1; j < length ; j++){\n",
    "            var subarray = [];\n",
    "            let Sum = 0\n",
    "            for (let k = i ; k <= j ; k++){\n",
    "                subarray.push(arr[k])\n",
    "            }\n",
    "\n",
    "            if (subarray.length == L)\n",
    "                for (let m = 0; m < L; m++)\n",
    "                    Sum += subarray[m]\n",
    "                console.log(Sum)\n",
    "\n",
    "        }\n",
    "    }\n",
    "}\n",
    "a = [1, 2, 3, 4, 5, 6]\n",
    "K = 3\n",
    "\n",
    "SumOfAllSubarraysOfSizeK(a, K)\n"
   ]
  },
  {
   "cell_type": "markdown",
   "id": "2d0cb315-df5e-49f0-8506-0cd265b933cd",
   "metadata": {},
   "source": [
    "## SUBSETS"
   ]
  },
  {
   "cell_type": "code",
   "execution_count": 21,
   "id": "f9e7cbde-a158-41ea-883e-822aead41c41",
   "metadata": {},
   "outputs": [
    {
     "name": "stdout",
     "output_type": "stream",
     "text": [
      "[\n",
      "  [ \u001b[33m0\u001b[39m ],          [ \u001b[33m1\u001b[39m ],\n",
      "  [ \u001b[33m1\u001b[39m, \u001b[33m0\u001b[39m ],       [ \u001b[33m1\u001b[39m, \u001b[33m1\u001b[39m ],\n",
      "  [ \u001b[33m1\u001b[39m, \u001b[33m0\u001b[39m, \u001b[33m0\u001b[39m ],    [ \u001b[33m1\u001b[39m, \u001b[33m0\u001b[39m, \u001b[33m1\u001b[39m ],\n",
      "  [ \u001b[33m1\u001b[39m, \u001b[33m1\u001b[39m, \u001b[33m0\u001b[39m ],    [ \u001b[33m1\u001b[39m, \u001b[33m1\u001b[39m, \u001b[33m1\u001b[39m ],\n",
      "  [ \u001b[33m1\u001b[39m, \u001b[33m0\u001b[39m, \u001b[33m0\u001b[39m, \u001b[33m0\u001b[39m ], [ \u001b[33m1\u001b[39m, \u001b[33m0\u001b[39m, \u001b[33m0\u001b[39m, \u001b[33m1\u001b[39m ],\n",
      "  [ \u001b[33m1\u001b[39m, \u001b[33m0\u001b[39m, \u001b[33m1\u001b[39m, \u001b[33m0\u001b[39m ], [ \u001b[33m1\u001b[39m, \u001b[33m0\u001b[39m, \u001b[33m1\u001b[39m, \u001b[33m1\u001b[39m ],\n",
      "  [ \u001b[33m1\u001b[39m, \u001b[33m1\u001b[39m, \u001b[33m0\u001b[39m, \u001b[33m0\u001b[39m ], [ \u001b[33m1\u001b[39m, \u001b[33m1\u001b[39m, \u001b[33m0\u001b[39m, \u001b[33m1\u001b[39m ],\n",
      "  [ \u001b[33m1\u001b[39m, \u001b[33m1\u001b[39m, \u001b[33m1\u001b[39m, \u001b[33m0\u001b[39m ], [ \u001b[33m1\u001b[39m, \u001b[33m1\u001b[39m, \u001b[33m1\u001b[39m, \u001b[33m1\u001b[39m ]\n",
      "]\n"
     ]
    }
   ],
   "source": [
    "function allSubarrays(arr){\n",
    "    let binArray = genBinary(arr.length)\n",
    "    for (let i = 0; i < binArray.length; i++)\n",
    "         binArray[i] = splitChar(binArray[i]) ;\n",
    "    console.log(binArray)\n",
    "}\n",
    "\n",
    "function splitChar(str){\n",
    "    let intArray = [];\n",
    "    for (let i = 0; i < str.length; i++)\n",
    "        intArray.push(str[i].charCodeAt(0) - '0'.charCodeAt(0));\n",
    "    return intArray;\n",
    "}\n",
    "        \n",
    "\n",
    "function genBinary(N){\n",
    "    let binArray = [];\n",
    "    for (let i = 0; i < Math.pow(2, N-1); i++){\n",
    "        binArray.push((i >>> 0).toString(2) )};\n",
    "    return binArray;\n",
    "}\n",
    "\n",
    "let a = [1, 2, 3, 4, 5]\n",
    "allSubarrays(a)"
   ]
  },
  {
   "cell_type": "markdown",
   "id": "3d2099d2-a723-47e0-ac43-6c7547f6fce2",
   "metadata": {},
   "source": [
    "## SUBSEQUENCES"
   ]
  },
  {
   "cell_type": "markdown",
   "id": "ec0e5cdc-238a-4f98-b7ab-94f89deb27f6",
   "metadata": {},
   "source": [
    "## MATRICES"
   ]
  },
  {
   "cell_type": "markdown",
   "id": "00bc9720-2182-4f82-ae45-4347369cb52f",
   "metadata": {},
   "source": [
    "### Basic Problems\n",
    "- Search in a Matrix\n",
    "- Addition of Matrices\n",
    "- Subtraction of Matrices\n",
    "- Multiplication of Matrices\n",
    "- Sort the given matrix\n",
    "- Search in a sorted matrix\n",
    "- Traverse Matrix using Recursion\n",
    "- Transpose of a matrix\n",
    "- Determinant of a Matrix\n",
    "- Adjoint and Inverse of a Matrix"
   ]
  },
  {
   "cell_type": "code",
   "execution_count": 12,
   "id": "ddfed2bd-66ce-4bb0-873c-8ad1641bf6cd",
   "metadata": {},
   "outputs": [
    {
     "ename": "SyntaxError",
     "evalue": "invalid syntax (2958772658.py, line 1)",
     "output_type": "error",
     "traceback": [
      "\u001b[0;36m  Cell \u001b[0;32mIn[12], line 1\u001b[0;36m\u001b[0m\n\u001b[0;31m    // - Search in a Matrix\u001b[0m\n\u001b[0m    ^\u001b[0m\n\u001b[0;31mSyntaxError\u001b[0m\u001b[0;31m:\u001b[0m invalid syntax\n"
     ]
    }
   ],
   "source": [
    "// - Search in a Matrix\n",
    "function searchMatrix(matrix){\n",
    "    let rows = matrix.length\n",
    "    let cols = matrix[0].length\n",
    "    console.log(rows, cols)\n",
    "    let i, j \n",
    "    for (i = 0; i < rows; i++){\n",
    "        for ( j = 0 ; j < cols; j++){\n",
    "            if (matrix[i][j] == num) {\n",
    "                return [i, j]\n",
    "            }\n",
    "        }\n",
    "    }\n",
    "\n",
    "    return -1, -1\n",
    "\n",
    "}\n",
    "\n",
    "let matrix = [[1, 2, 3], [4, 5, 6], [7, 8, 9]]\n",
    "let num = 4\n",
    "console.log(searchMatrix(matrix, num))"
   ]
  },
  {
   "cell_type": "code",
   "execution_count": 13,
   "id": "59975bf3-08fc-407e-b3e4-442cd3ad8d7d",
   "metadata": {},
   "outputs": [
    {
     "ename": "SyntaxError",
     "evalue": "invalid syntax (1992051057.py, line 1)",
     "output_type": "error",
     "traceback": [
      "\u001b[0;36m  Cell \u001b[0;32mIn[13], line 1\u001b[0;36m\u001b[0m\n\u001b[0;31m    // - Add two matrices\u001b[0m\n\u001b[0m    ^\u001b[0m\n\u001b[0;31mSyntaxError\u001b[0m\u001b[0;31m:\u001b[0m invalid syntax\n"
     ]
    }
   ],
   "source": [
    "// - Add two matrices\n",
    "function addMatrices(mat1, mat2){\n",
    "    let rows = mat1.length\n",
    "    let cols = mat2[0].length\n",
    "    //console.log(rows, cols)\n",
    "\n",
    "     \n",
    "    for (let i = 0; i < rows; i++){\n",
    "        for (let j = 0 ; j < cols; j++){\n",
    "                mat1[i][j] += mat2[i][j]\n",
    "            }\n",
    "        }\n",
    "    \n",
    "    return mat1\n",
    "}\n",
    "\n",
    "let matrix1 = [[1, 2, 3], [4, 5, 6], [7, 8, 9]]\n",
    "let matrix2 = [[1, 2, 3], [4, 5, 6], [7, 8, 9]]\n",
    "console.log(addMatrices(matrix1, matrix2))"
   ]
  },
  {
   "cell_type": "markdown",
   "id": "a8ae82c1-ba15-4a27-b8f5-a6f174283691",
   "metadata": {},
   "source": [
    "## STRINGS"
   ]
  },
  {
   "cell_type": "markdown",
   "id": "89e0d418-08af-47f2-85d4-27f8b390dac7",
   "metadata": {},
   "source": [
    "### Basic Operations of String:\n",
    "- Length of a String\n",
    "- Check if two strings are same\n",
    "- Search a Character\n",
    "- Insert a Character at a Position\n",
    "- Remove a Character at a Position\n",
    "- Insert a character at Multiple Positions\n",
    "- Remove all occurrences of a character\n",
    "- Concatenating Two Strings\n",
    "- Reverse a string\n",
    "- Generate all Substrings"
   ]
  },
  {
   "cell_type": "code",
   "execution_count": 127,
   "id": "966f5c98-2fb1-4938-a9be-8301a1fe3a85",
   "metadata": {
    "scrolled": true
   },
   "outputs": [
    {
     "name": "stdout",
     "output_type": "stream",
     "text": [
      "\u001b[33m12\u001b[39m \u001b[33mtrue\u001b[39m \u001b[33m10\u001b[39m Hee Lhee hee gee kee\n",
      "\n"
     ]
    }
   ],
   "source": [
    "function stringLength(str){\n",
    "    return str.length\n",
    "}\n",
    "\n",
    "function compareStrings(str1, str2){\n",
    "    if (str1.length != str2.length) return false;\n",
    "    for (let i = 0; i < str1.length; i++){\n",
    "        if (str1[i] == str2[i]) {continue}\n",
    "        else {return false}\n",
    "    }\n",
    "    return true\n",
    "}\n",
    "\n",
    "function searchChar(str, ch){\n",
    "    let count = 0\n",
    "    for (let i = 0; i < str.length; i++){\n",
    "        if (str[i] == ch){\n",
    "            count++\n",
    "        }\n",
    "    }\n",
    "    return count\n",
    "}\n",
    "\n",
    "function insertACharAtAPos(str, idx, ch){\n",
    "     return str.substring(0, idx) + ch + str.substring(idx)\n",
    "}\n",
    "\n",
    "\n",
    "function reverseAString(str){\n",
    "    let len = str.length\n",
    "    let result = \"\"\n",
    "    for (let i = len-1 ; i >= 0; i--){\n",
    "        result.concat(str[i])\n",
    "    }\n",
    "\n",
    "    return result\n",
    "}\n",
    "\n",
    "let string1 = \"Hello World!\"\n",
    "let string2 = \"Hello World!\"\n",
    "let string3 = \"Hee hee hee gee kee\"\n",
    "console.log(stringLength(string1), compareStrings(string1, string2), searchChar(string3, 'e'), insertACharAtAPos(string3, 4, 'L'))\n",
    "console.log(reverseAString(string3))\n"
   ]
  },
  {
   "cell_type": "markdown",
   "id": "535f90e9-b061-47a4-94c9-9b7518e78c55",
   "metadata": {},
   "source": [
    "### Easy Problems on String:\n",
    "- Check for Binary\n",
    "- Camel Case Conversion\n",
    "- Binary Substrings with Corners as 1s\n",
    "- Check for Panagram\n",
    "- Check for Palindrome\n",
    "- Check for Substring\n",
    "- Check for Subsequence\n",
    "- Check for Anagrams\n",
    "- Check for K-Anagrams\n",
    "- Duplicates in a String\n",
    "- Longest Substring Between Equals\n",
    "- Left Rotate\n",
    "- Check for Rotation\n",
    "- Validate an IP address\n",
    "- Count strings with consecutive 1’s\n",
    "- Generate all binary strings from given pattern\n",
    "- Smallest and Largest Word in a String\n",
    "- Count number of equal pairs in a string\n",
    "- Second most repeated word in a sequence\n",
    "- All strings by placing spaces\n",
    "- Sort string of characters\n",
    "- Char Frequencies in Order of Occurrence\n",
    "- Char Frequencies in Alphabetical order\n",
    "- URLify a String"
   ]
  },
  {
   "cell_type": "code",
   "execution_count": 36,
   "id": "d7ee6760-d172-42c0-aa58-66f15a527c8e",
   "metadata": {},
   "outputs": [
    {
     "name": "stdout",
     "output_type": "stream",
     "text": [
      "\u001b[33mfalse\u001b[39m\n"
     ]
    }
   ],
   "source": [
    "/* Check for Binary String\n",
    "Given a string s, the task is to check if it is a binary string or not. A binary string is a string which only contains the characters '0' and '1'. */\n",
    "\n",
    "function isBinaryString(str){\n",
    "    var ch\n",
    "    for (let i = 0 ; i < str.length; i++) {\n",
    "        if (str[i] != \"0\" && str[i] != '1'){\n",
    "            return false\n",
    "        }\n",
    "    }\n",
    "    return true\n",
    "}\n",
    "\n",
    "let string = \"010101012\"\n",
    "console.log(isBinaryString(string))"
   ]
  },
  {
   "cell_type": "code",
   "execution_count": 82,
   "id": "11670254-9e99-41ae-bd28-dcaaf997bae2",
   "metadata": {},
   "outputs": [
    {
     "name": "stdout",
     "output_type": "stream",
     "text": [
      "\n"
     ]
    }
   ],
   "source": [
    "/* Camel case of a given sentence\n",
    "Last Updated : 23 Nov, 2024\n",
    "Given a sentence having lowercase characters, the task is to convert it to Camel Case. In Camel Case, words are joined without spaces, the first word keeps its original case, and each subsequent word starts with an uppercase letter.\n",
    "*/\n",
    "\n",
    "function changeToCamelCase(sentence){\n",
    "    let words = sentence.split(\" \")\n",
    "    let result = \"\"\n",
    "      for (let i=0; i < words.length; i++){\n",
    "        result.concat(words[i][0].toUpperCase())\n",
    "       }\n",
    "    console.log(result)\n",
    "}\n",
    "\n",
    "string = \"Hello! How are you ?\"\n",
    "//console.log(\n",
    "changeToCamelCase(string)\n",
    "    "
   ]
  },
  {
   "cell_type": "code",
   "execution_count": 134,
   "id": "b1e0c440-466a-4a74-a10c-0c56da412468",
   "metadata": {
    "scrolled": true
   },
   "outputs": [
    {
     "name": "stdout",
     "output_type": "stream",
     "text": [
      "[\n",
      "  \u001b[32m\" \"\u001b[39m, \u001b[32m\" \"\u001b[39m, \u001b[32m\" \"\u001b[39m, \u001b[32m\" \"\u001b[39m, \u001b[32m\" \"\u001b[39m, \u001b[32m\" \"\u001b[39m, \u001b[32m\" \"\u001b[39m,\n",
      "  \u001b[32m\" \"\u001b[39m, \u001b[32m\"a\"\u001b[39m, \u001b[32m\"b\"\u001b[39m, \u001b[32m\"c\"\u001b[39m, \u001b[32m\"d\"\u001b[39m, \u001b[32m\"e\"\u001b[39m, \u001b[32m\"e\"\u001b[39m,\n",
      "  \u001b[32m\"e\"\u001b[39m, \u001b[32m\"f\"\u001b[39m, \u001b[32m\"g\"\u001b[39m, \u001b[32m\"h\"\u001b[39m, \u001b[32m\"h\"\u001b[39m, \u001b[32m\"i\"\u001b[39m, \u001b[32m\"j\"\u001b[39m,\n",
      "  \u001b[32m\"k\"\u001b[39m, \u001b[32m\"l\"\u001b[39m, \u001b[32m\"m\"\u001b[39m, \u001b[32m\"n\"\u001b[39m, \u001b[32m\"o\"\u001b[39m, \u001b[32m\"o\"\u001b[39m, \u001b[32m\"o\"\u001b[39m,\n",
      "  \u001b[32m\"o\"\u001b[39m, \u001b[32m\"p\"\u001b[39m, \u001b[32m\"q\"\u001b[39m, \u001b[32m\"r\"\u001b[39m, \u001b[32m\"r\"\u001b[39m, \u001b[32m\"s\"\u001b[39m, \u001b[32m\"t\"\u001b[39m,\n",
      "  \u001b[32m\"t\"\u001b[39m, \u001b[32m\"u\"\u001b[39m, \u001b[32m\"u\"\u001b[39m, \u001b[32m\"v\"\u001b[39m, \u001b[32m\"w\"\u001b[39m, \u001b[32m\"x\"\u001b[39m, \u001b[32m\"y\"\u001b[39m,\n",
      "  \u001b[32m\"z\"\u001b[39m\n",
      "]\n",
      "\u001b[33m26\u001b[39m\n"
     ]
    },
    {
     "data": {
      "text/plain": [
       "\u001b[33mtrue\u001b[39m"
      ]
     },
     "execution_count": 134,
     "metadata": {},
     "output_type": "execute_result"
    }
   ],
   "source": [
    "/* \n",
    "Given a string s, the task is to check if it is Pangram or not. A pangram is a sentence containing all letters of the English Alphabet.\n",
    "*/\n",
    "\n",
    "function isPanagram(string){\n",
    "    string = string.toLowerCase()\n",
    "    let letters = string.split(\"\")\n",
    "    console.log(letters.sort())\n",
    "    letters = letters.filter(item => item !== \" \")\n",
    "    let uniqueLetters = new Set(letters) \n",
    "    console.log(uniqueLetters.size)\n",
    "    if (uniqueLetters.size == 26)\n",
    "        { return true }\n",
    "    else { \n",
    "        return false}\n",
    "}\n",
    "\n",
    "string = \"The quick brown fox jumps over the lazy dog\"\n",
    "isPanagram(string)"
   ]
  },
  {
   "cell_type": "code",
   "execution_count": 140,
   "id": "18177800-63c6-4a30-9ffc-a98a3c0ada58",
   "metadata": {},
   "outputs": [
    {
     "name": "stdout",
     "output_type": "stream",
     "text": [
      "\u001b[33mtrue\u001b[39m\n"
     ]
    }
   ],
   "source": [
    "/* - Check for Palindrome */\n",
    "\n",
    "function isPalindrome(str){\n",
    "    let n = str.length\n",
    "\n",
    "    for (let i = 0; i < n ; i++){\n",
    "        if (str[i] != str[n-i-1]){\n",
    "            return false\n",
    "        }\n",
    "    }\n",
    "\n",
    "    return true\n",
    "}\n",
    "\n",
    "string = \"abba\"\n",
    "console.log(isPalindrome(string))"
   ]
  },
  {
   "cell_type": "markdown",
   "id": "474ca207-cec1-4a0c-917c-6591475f8318",
   "metadata": {},
   "source": [
    "## LINKED LISTS"
   ]
  },
  {
   "cell_type": "markdown",
   "id": "ac50f0ea-6fdc-47db-96f4-87ea7f361b59",
   "metadata": {},
   "source": [
    "## STACKS"
   ]
  },
  {
   "cell_type": "markdown",
   "id": "3a89f3fc-5bab-43c4-b7e0-e6cbd3923ac1",
   "metadata": {},
   "source": [
    "## QUEUES"
   ]
  },
  {
   "cell_type": "code",
   "execution_count": null,
   "id": "33c5acb2-379c-42d0-a7c7-d081b32a0616",
   "metadata": {},
   "outputs": [],
   "source": []
  },
  {
   "cell_type": "code",
   "execution_count": null,
   "id": "1288ed27-7eaa-4872-b59e-e3ef66fa0b4b",
   "metadata": {},
   "outputs": [],
   "source": []
  }
 ],
 "metadata": {
  "kernelspec": {
   "display_name": "Deno",
   "language": "typescript",
   "name": "deno"
  },
  "language_info": {
   "codemirror_mode": "typescript",
   "file_extension": ".ts",
   "mimetype": "text/x.typescript",
   "name": "typescript",
   "nbconvert_exporter": "script",
   "pygments_lexer": "typescript",
   "version": "5.6.2"
  }
 },
 "nbformat": 4,
 "nbformat_minor": 5
}

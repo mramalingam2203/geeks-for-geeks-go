{
 "cells": [
  {
   "cell_type": "markdown",
   "id": "827746fb-6755-41ba-937b-8f5b99e201b4",
   "metadata": {},
   "source": [
    "### Most problems from GeeksForGeeks with links .. solved in Python"
   ]
  },
  {
   "cell_type": "markdown",
   "id": "39bec452-3f66-4226-b41f-87885b68952b",
   "metadata": {},
   "source": [
    "### Basic Problems on Array:\n",
    "- Print Alternates\n",
    "- Linear Search\n",
    "- Largest Element\n",
    "- Second Largest\n",
    "- Largest Three\n",
    "- Leaders in an array\n",
    "- Check if Sorted\n",
    "- Remove Duplicates from Sorted\n",
    "- Generate all Subarrays\n",
    "- Reverse an Array\n",
    "- Rotate an Array\n",
    "- Zeroes to End\n",
    "- Min Increments to Make Equal\n",
    "- Min Cost to Make Size 1"
   ]
  },
  {
   "cell_type": "code",
   "execution_count": 5,
   "id": "d7c735a3-5199-4771-aeee-b3cd8a74f84f",
   "metadata": {},
   "outputs": [
    {
     "name": "stdout",
     "output_type": "stream",
     "text": [
      "1\n",
      "3\n",
      "5\n"
     ]
    }
   ],
   "source": [
    "\"\"\"\n",
    "https://www.geeksforgeeks.org/print-alternate-elements-of-an-array/\n",
    "Given an array arr[], the task is to print every alternate element of the array starting from the first element.\n",
    "\"\"\"\n",
    "\n",
    "def printAlternate(arr):\n",
    "    for index, val in enumerate(arr):\n",
    "        if index %2 == 0:\n",
    "            print(val)\n",
    "\"\"\"\n",
    "https://www.geeksforgeeks.org/linear-search/\n",
    "Given an array, arr of n integers, and an integer element x, find whether element x is present in the array. Return the index of the first occurrence of x in the array, or -1 if it doesn’t exist.\n",
    "\"\"\"\n",
    "\n",
    "def linearSearch(arr, k):\n",
    "    for index, val in enumerate(arr):\n",
    "        if val == \n",
    "printAlternate([1, 2, 3, 4, 5])"
   ]
  },
  {
   "cell_type": "markdown",
   "id": "b31c8466-0ca2-4f72-bea1-18c0f4a25624",
   "metadata": {},
   "source": [
    "## SUBARRAYS"
   ]
  },
  {
   "cell_type": "code",
   "execution_count": 37,
   "id": "28dc83b2-f3af-4d59-b8ba-c0410198e524",
   "metadata": {},
   "outputs": [
    {
     "name": "stdout",
     "output_type": "stream",
     "text": [
      "[[1], [1, 2], [1, 2, 3], [1, 2, 3, 4], [2], [2, 3], [2, 3, 4], [3], [3, 4], [4]]\n"
     ]
    }
   ],
   "source": [
    "# Generate subarray - simple iteration\n",
    "def subarray(arr):\n",
    "    n = len(arr)\n",
    "    result = []\n",
    "    for i in range(0, n+1):\n",
    "        for j in range(i+1, n+1):\n",
    "            result.append(arr[i:j])\n",
    "    return result\n",
    "\n",
    "array = [1, 2, 3,4]\n",
    "print(subarray(array))"
   ]
  },
  {
   "cell_type": "code",
   "execution_count": 96,
   "id": "ad7d5756-de2a-4d14-8b37-d39d8b161976",
   "metadata": {},
   "outputs": [
    {
     "data": {
      "text/plain": [
       "[1]"
      ]
     },
     "execution_count": 96,
     "metadata": {},
     "output_type": "execute_result"
    }
   ],
   "source": [
    "# Check if subarray with given product exists in an array\n",
    "# https://www.geeksforgeeks.org/check-if-subarray-with-given-product-exists-in-an-array/\n",
    "\n",
    "def checkForProduct(arr, k):\n",
    "    n = len(arr)\n",
    "    for i in range(0, n+1):\n",
    "        prod = 1\n",
    "        for j in range(i+1, n+1):\n",
    "            prod *= arr[j]\n",
    "            if prod == k :\n",
    "                return arr[i:j+1]\n",
    "    return -1\n",
    "\n",
    "# https://www.geeksforgeeks.org/subarray-of-size-k-with-given-sum/\n",
    "# need to debug\n",
    "def SubarrayOfSizeKWithGivenSum(arr, k):\n",
    "    n = len(arr)\n",
    "    for i in range(n+1):\n",
    "        sum = 0\n",
    "        for j in range(i+1, n+1):\n",
    "            sum += arr[j]\n",
    "            if sum == k:\n",
    "                print(i, j, sum)\n",
    "            if sum == k:\n",
    "                return arr[i:j]\n",
    "    return -1\n",
    "\n",
    "\n",
    "# https://www.geeksforgeeks.org/sort-an-array-where-a-subarray-of-a-sorted-array-is-in-reverse-order/\n",
    "def SortAnArrayWhereASubarrayOfASortedArrayIsInReverseOrder(arr):\n",
    "    n = len(arr)+1\n",
    "    for i in range(n):\n",
    "        for j in range(i+1, n):\n",
    "            if checkForReverseOrder(arr[i:j]) == True:\n",
    "                return arr[i:j]\n",
    "    return -1\n",
    "\n",
    "def checkForReverseOrder(arr):\n",
    "    n = len(arr)-1\n",
    "    for i in range(n):\n",
    "        if arr[i] < arr[i+1]:\n",
    "            return False\n",
    "    return True\n",
    "\n",
    "array = [1, 4, 3, 2, 5]\n",
    "#print(checkForProduct(array, 120))\n",
    "#print(SubarrayOfSizeKWithGivenSum(array, 9))\n",
    "SortAnArrayWhereASubarrayOfASortedArrayIsInReverseOrder(array)\n",
    "\n"
   ]
  },
  {
   "cell_type": "code",
   "execution_count": null,
   "id": "11392770-233b-4d28-98a6-554d1fef430a",
   "metadata": {},
   "outputs": [],
   "source": [
    "# https://www.geeksforgeeks.org/array-subarray-subsequence-and-subset/?ref=lbp"
   ]
  },
  {
   "cell_type": "code",
   "execution_count": 19,
   "id": "56a6c44f-da90-4cd7-8a9f-2ab244bc73af",
   "metadata": {},
   "outputs": [
    {
     "name": "stdout",
     "output_type": "stream",
     "text": [
      "0\n",
      "1\n",
      "2\n",
      "3\n",
      "4\n",
      "5\n"
     ]
    }
   ],
   "source": [
    "x = range(6)\n",
    "for n in x:\n",
    "  print(n)"
   ]
  },
  {
   "cell_type": "code",
   "execution_count": 5,
   "id": "7903a765-bce9-480c-83ad-0098fda61f8b",
   "metadata": {},
   "outputs": [
    {
     "data": {
      "text/plain": [
       "9"
      ]
     },
     "execution_count": 5,
     "metadata": {},
     "output_type": "execute_result"
    }
   ],
   "source": [
    "#https://www.geeksforgeeks.org/count-subarrays-with-all-elements-greater-than-k/\n",
    "def CountSubarraysWithAllElementsGreaterThanK(arr, K):\n",
    "    n = len(arr)+1\n",
    "    count = 0\n",
    "    for i in range(n):\n",
    "        for j in range(i+1, n-1):\n",
    "            if arr[j] < K:\n",
    "                break\n",
    "            count += 1\n",
    "    return count\n",
    "    \n",
    "test = [3, 4, 5, 6, 7, 2, 10, 11]\n",
    "sum = 5\n",
    "CountSubarraysWithAllElementsGreaterThanK(test, 5)\n",
    "        \n"
   ]
  },
  {
   "cell_type": "code",
   "execution_count": 19,
   "id": "f7175c30-aa59-4460-b770-1450edd418ca",
   "metadata": {},
   "outputs": [
    {
     "name": "stdout",
     "output_type": "stream",
     "text": [
      "5\n"
     ]
    }
   ],
   "source": [
    "# https://www.geeksforgeeks.org/maximum-length-of-the-sub-array-whose-first-and-last-elements-are-same/\n",
    "\n",
    "def MaximumLengthOfTheSubArrayWhoseFirstAndLastElementsAreSame(arr):\n",
    "    n = len(arr)\n",
    "    result = 1\n",
    "    for i in range(n):\n",
    "        for j in range(i+1, n+1):\n",
    "            if arr[i] == arr[j-1] :\n",
    "                if len(arr[i:j]) > result:\n",
    "                    result = len(arr[i:j])\n",
    "    return result\n",
    "test = ['a', 'b', 'c', 'd', 'a']\n",
    "print(MaximumLengthOfTheSubArrayWhoseFirstAndLastElementsAreSame(test))"
   ]
  },
  {
   "cell_type": "code",
   "execution_count": 20,
   "id": "1c94245a-48a8-4d03-92c1-fd5a30c3acb4",
   "metadata": {},
   "outputs": [
    {
     "name": "stdout",
     "output_type": "stream",
     "text": [
      "[[1], [1, 2], [1, 2, 3], [1, 2, 3, 4], [2], [2, 3], [2, 3, 4], [3], [3, 4], [4]]\n"
     ]
    }
   ],
   "source": [
    "# 2. Efficient O(n²) Ap2. Efficient O(n²) Approachproach\n",
    "\n",
    "def generateSubarrays(arr):\n",
    "    n = len(arr)\n",
    "    subarrays = []\n",
    "    for i in range(n+1):\n",
    "        for j in range(i+1, n+1):\n",
    "            subarrays.append(arr[i:j])\n",
    "    return subarrays\n",
    "\n",
    "test = [1, 2, 3, 4]\n",
    "print(generateSubarrays(test))"
   ]
  },
  {
   "cell_type": "code",
   "execution_count": 29,
   "id": "068c084c-4c90-4538-9f88-dbdfb33cca11",
   "metadata": {},
   "outputs": [
    {
     "name": "stdout",
     "output_type": "stream",
     "text": [
      "[[1, 2, 3, 4], [1, 2, 3, 4], [1, 2, 3], [1, 2], [1], [2, 3, 4], [2, 3], [2], [3, 4], [3], [4]]\n"
     ]
    }
   ],
   "source": [
    "# 3. Divide and Conquer (O(n log n))\n",
    "def generateSubarrays_DivConq(arr, start, end, res):\n",
    "    n = len(arr)\n",
    "    if start > end:\n",
    "        return\n",
    "    res.append(arr[start:end+1])\n",
    "    generateSubarrays_DivConq(arr, start, end-1, res)\n",
    "    if end == n-1:\n",
    "         generateSubarrays_DivConq(arr, start+1, n-1, res)\n",
    "        \n",
    "test = [1, 2, 3, 4]\n",
    "res = []\n",
    "generateSubarrays_DivConq(test,0, len(test), res)\n",
    "print(res)"
   ]
  },
  {
   "cell_type": "code",
   "execution_count": null,
   "id": "a657c68d-9e72-4e13-82b1-b01f6e5796e2",
   "metadata": {},
   "outputs": [],
   "source": []
  }
 ],
 "metadata": {
  "kernelspec": {
   "display_name": "Python 3 (ipykernel)",
   "language": "python",
   "name": "python3"
  },
  "language_info": {
   "codemirror_mode": {
    "name": "ipython",
    "version": 3
   },
   "file_extension": ".py",
   "mimetype": "text/x-python",
   "name": "python",
   "nbconvert_exporter": "python",
   "pygments_lexer": "ipython3",
   "version": "3.12.7"
  }
 },
 "nbformat": 4,
 "nbformat_minor": 5
}
